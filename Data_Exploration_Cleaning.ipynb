{
 "cells": [
  {
   "cell_type": "code",
   "execution_count": 1,
   "metadata": {
    "collapsed": true
   },
   "outputs": [],
   "source": [
    "import numpy as np\n",
    "import pandas as pd\n",
    "import matplotlib.pyplot as plt"
   ]
  },
  {
   "cell_type": "code",
   "execution_count": 2,
   "metadata": {
    "collapsed": false
   },
   "outputs": [
    {
     "data": {
      "text/html": [
       "<div>\n",
       "<style>\n",
       "    .dataframe thead tr:only-child th {\n",
       "        text-align: right;\n",
       "    }\n",
       "\n",
       "    .dataframe thead th {\n",
       "        text-align: left;\n",
       "    }\n",
       "\n",
       "    .dataframe tbody tr th {\n",
       "        vertical-align: top;\n",
       "    }\n",
       "</style>\n",
       "<table border=\"1\" class=\"dataframe\">\n",
       "  <thead>\n",
       "    <tr style=\"text-align: right;\">\n",
       "      <th></th>\n",
       "      <th>UserID</th>\n",
       "      <th>ItemId</th>\n",
       "      <th>Rating</th>\n",
       "      <th>Timestamp</th>\n",
       "    </tr>\n",
       "  </thead>\n",
       "  <tbody>\n",
       "    <tr>\n",
       "      <th>0</th>\n",
       "      <td>AUI0OLXAB3KKT</td>\n",
       "      <td>B004A9SDD8</td>\n",
       "      <td>5.0</td>\n",
       "      <td>1301184000</td>\n",
       "    </tr>\n",
       "    <tr>\n",
       "      <th>1</th>\n",
       "      <td>A1ZUSQ3TC3EC4C</td>\n",
       "      <td>B004A9SDD8</td>\n",
       "      <td>5.0</td>\n",
       "      <td>1321574400</td>\n",
       "    </tr>\n",
       "    <tr>\n",
       "      <th>2</th>\n",
       "      <td>AC05OAXD72X1V</td>\n",
       "      <td>B004A9SDD8</td>\n",
       "      <td>4.0</td>\n",
       "      <td>1367366400</td>\n",
       "    </tr>\n",
       "    <tr>\n",
       "      <th>3</th>\n",
       "      <td>A2RVMFOKBVM21I</td>\n",
       "      <td>B004A9SDD8</td>\n",
       "      <td>5.0</td>\n",
       "      <td>1350172800</td>\n",
       "    </tr>\n",
       "    <tr>\n",
       "      <th>4</th>\n",
       "      <td>A3NBSRGUWQGCMZ</td>\n",
       "      <td>B004A9SDD8</td>\n",
       "      <td>1.0</td>\n",
       "      <td>1300838400</td>\n",
       "    </tr>\n",
       "  </tbody>\n",
       "</table>\n",
       "</div>"
      ],
      "text/plain": [
       "           UserID      ItemId  Rating   Timestamp\n",
       "0   AUI0OLXAB3KKT  B004A9SDD8     5.0  1301184000\n",
       "1  A1ZUSQ3TC3EC4C  B004A9SDD8     5.0  1321574400\n",
       "2   AC05OAXD72X1V  B004A9SDD8     4.0  1367366400\n",
       "3  A2RVMFOKBVM21I  B004A9SDD8     5.0  1350172800\n",
       "4  A3NBSRGUWQGCMZ  B004A9SDD8     1.0  1300838400"
      ]
     },
     "execution_count": 2,
     "metadata": {},
     "output_type": "execute_result"
    }
   ],
   "source": [
    "colnames =['UserID', 'ItemId', 'Rating', 'Timestamp']\n",
    "df = pd.read_csv('./Dataset/ratings_Apps_for_Android.csv', names = colnames, header=None)\n",
    "df.head()"
   ]
  },
  {
   "cell_type": "code",
   "execution_count": 3,
   "metadata": {
    "collapsed": false
   },
   "outputs": [
    {
     "data": {
      "text/plain": [
       "RangeIndex(start=0, stop=2638172, step=1)"
      ]
     },
     "execution_count": 3,
     "metadata": {},
     "output_type": "execute_result"
    }
   ],
   "source": [
    "df.index"
   ]
  },
  {
   "cell_type": "code",
   "execution_count": 4,
   "metadata": {
    "collapsed": false
   },
   "outputs": [
    {
     "data": {
      "image/png": "[encoded data removed]",
      "text/plain": [
       "<matplotlib.figure.Figure at 0x17c91f28>"
      ]
     },
     "metadata": {},
     "output_type": "display_data"
    }
   ],
   "source": [
    "plt.hist(df['Rating'])\n",
    "plt.show()"
   ]
  },
  {
   "cell_type": "code",
   "execution_count": 5,
   "metadata": {
    "collapsed": false
   },
   "outputs": [
    {
     "data": {
      "text/plain": [
       "5.0    1394593\n",
       "4.0     561814\n",
       "1.0     294284\n",
       "3.0     253582\n",
       "2.0     133899\n",
       "Name: Rating, dtype: int64"
      ]
     },
     "execution_count": 5,
     "metadata": {},
     "output_type": "execute_result"
    }
   ],
   "source": [
    "df['Rating'].value_counts()"
   ]
  },
  {
   "cell_type": "code",
   "execution_count": 6,
   "metadata": {
    "collapsed": false
   },
   "outputs": [
    {
     "data": {
      "text/plain": [
       "B0054JZC6E    25368\n",
       "B00FAPF5U0    24024\n",
       "B009UX2YAC    23956\n",
       "B00G5LQ5MU    18645\n",
       "B0064X7B4A    16239\n",
       "Name: ItemId, dtype: int64"
      ]
     },
     "execution_count": 6,
     "metadata": {},
     "output_type": "execute_result"
    }
   ],
   "source": [
    "counts = df['ItemId'].value_counts()\n",
    "counts[counts > 500].head()"
   ]
  },
  {
   "cell_type": "code",
   "execution_count": 7,
   "metadata": {
    "collapsed": false
   },
   "outputs": [],
   "source": [
    "# Filter all items in the dataset which are rated less than or equal to 500 times\n",
    "df = df[df['ItemId'].isin(counts[counts > 500].index)]"
   ]
  },
  {
   "cell_type": "code",
   "execution_count": 8,
   "metadata": {
    "collapsed": false
   },
   "outputs": [
    {
     "data": {
      "text/html": [
       "<div>\n",
       "<style>\n",
       "    .dataframe thead tr:only-child th {\n",
       "        text-align: right;\n",
       "    }\n",
       "\n",
       "    .dataframe thead th {\n",
       "        text-align: left;\n",
       "    }\n",
       "\n",
       "    .dataframe tbody tr th {\n",
       "        vertical-align: top;\n",
       "    }\n",
       "</style>\n",
       "<table border=\"1\" class=\"dataframe\">\n",
       "  <thead>\n",
       "    <tr style=\"text-align: right;\">\n",
       "      <th></th>\n",
       "      <th>UserID</th>\n",
       "      <th>ItemId</th>\n",
       "      <th>Rating</th>\n",
       "      <th>Timestamp</th>\n",
       "    </tr>\n",
       "  </thead>\n",
       "  <tbody>\n",
       "    <tr>\n",
       "      <th>1073</th>\n",
       "      <td>A384EZ53Q9NI6F</td>\n",
       "      <td>B004ANMWPY</td>\n",
       "      <td>5.0</td>\n",
       "      <td>1405296000</td>\n",
       "    </tr>\n",
       "    <tr>\n",
       "      <th>1074</th>\n",
       "      <td>A3FBDUC89AE78</td>\n",
       "      <td>B004ANMWPY</td>\n",
       "      <td>1.0</td>\n",
       "      <td>1405468800</td>\n",
       "    </tr>\n",
       "    <tr>\n",
       "      <th>1075</th>\n",
       "      <td>A36KJCAHF4G5XA</td>\n",
       "      <td>B004ANMWPY</td>\n",
       "      <td>5.0</td>\n",
       "      <td>1405296000</td>\n",
       "    </tr>\n",
       "    <tr>\n",
       "      <th>1076</th>\n",
       "      <td>A6N0BM3TTTN1W</td>\n",
       "      <td>B004ANMWPY</td>\n",
       "      <td>5.0</td>\n",
       "      <td>1405382400</td>\n",
       "    </tr>\n",
       "    <tr>\n",
       "      <th>1077</th>\n",
       "      <td>A1VMULXBITX5VW</td>\n",
       "      <td>B004ANMWPY</td>\n",
       "      <td>5.0</td>\n",
       "      <td>1334016000</td>\n",
       "    </tr>\n",
       "  </tbody>\n",
       "</table>\n",
       "</div>"
      ],
      "text/plain": [
       "              UserID      ItemId  Rating   Timestamp\n",
       "1073  A384EZ53Q9NI6F  B004ANMWPY     5.0  1405296000\n",
       "1074   A3FBDUC89AE78  B004ANMWPY     1.0  1405468800\n",
       "1075  A36KJCAHF4G5XA  B004ANMWPY     5.0  1405296000\n",
       "1076   A6N0BM3TTTN1W  B004ANMWPY     5.0  1405382400\n",
       "1077  A1VMULXBITX5VW  B004ANMWPY     5.0  1334016000"
      ]
     },
     "execution_count": 8,
     "metadata": {},
     "output_type": "execute_result"
    }
   ],
   "source": [
    "df.head(5)"
   ]
  },
  {
   "cell_type": "code",
   "execution_count": 9,
   "metadata": {
    "collapsed": false
   },
   "outputs": [
    {
     "data": {
      "text/plain": [
       "Int64Index([   1073,    1074,    1075,    1076,    1077,    1078,    1079,\n",
       "               1080,    1081,    1082,\n",
       "            ...\n",
       "            2636871, 2636872, 2636873, 2636874, 2636875, 2636876, 2636877,\n",
       "            2636878, 2636879, 2636880],\n",
       "           dtype='int64', length=1630537)"
      ]
     },
     "execution_count": 9,
     "metadata": {},
     "output_type": "execute_result"
    }
   ],
   "source": [
    "df.index"
   ]
  },
  {
   "cell_type": "code",
   "execution_count": 10,
   "metadata": {
    "collapsed": false
   },
   "outputs": [
    {
     "data": {
      "text/plain": [
       "ACX8G3IW95BNE     210\n",
       "A2C05OHYJERICI    171\n",
       "A3F3B6HY9RJI04     98\n",
       "A18HE80910BTZI     80\n",
       "A29DRVSSQSB04A     77\n",
       "Name: UserID, dtype: int64"
      ]
     },
     "execution_count": 10,
     "metadata": {},
     "output_type": "execute_result"
    }
   ],
   "source": [
    "counts = df['UserID'].value_counts()\n",
    "counts[counts > 5].head()"
   ]
  },
  {
   "cell_type": "code",
   "execution_count": 11,
   "metadata": {
    "collapsed": true
   },
   "outputs": [],
   "source": [
    "# Filter all users in the dataset who have rated less than or equal to 5 times\n",
    "df = df[df['UserID'].isin(counts[counts > 5].index)]\n",
    "\n",
    "# Note that the items may now be rated less than 500 times as some users are dropped along with their ratings"
   ]
  },
  {
   "cell_type": "code",
   "execution_count": 12,
   "metadata": {
    "collapsed": false
   },
   "outputs": [
    {
     "data": {
      "text/html": [
       "<div>\n",
       "<style>\n",
       "    .dataframe thead tr:only-child th {\n",
       "        text-align: right;\n",
       "    }\n",
       "\n",
       "    .dataframe thead th {\n",
       "        text-align: left;\n",
       "    }\n",
       "\n",
       "    .dataframe tbody tr th {\n",
       "        vertical-align: top;\n",
       "    }\n",
       "</style>\n",
       "<table border=\"1\" class=\"dataframe\">\n",
       "  <thead>\n",
       "    <tr style=\"text-align: right;\">\n",
       "      <th></th>\n",
       "      <th>UserID</th>\n",
       "      <th>ItemId</th>\n",
       "      <th>Rating</th>\n",
       "      <th>Timestamp</th>\n",
       "    </tr>\n",
       "  </thead>\n",
       "  <tbody>\n",
       "    <tr>\n",
       "      <th>1076</th>\n",
       "      <td>A6N0BM3TTTN1W</td>\n",
       "      <td>B004ANMWPY</td>\n",
       "      <td>5.0</td>\n",
       "      <td>1405382400</td>\n",
       "    </tr>\n",
       "    <tr>\n",
       "      <th>1081</th>\n",
       "      <td>A315MDHWT29JK9</td>\n",
       "      <td>B004ANMWPY</td>\n",
       "      <td>5.0</td>\n",
       "      <td>1360540800</td>\n",
       "    </tr>\n",
       "    <tr>\n",
       "      <th>1083</th>\n",
       "      <td>A3V4Q4UA42QJXB</td>\n",
       "      <td>B004ANMWPY</td>\n",
       "      <td>5.0</td>\n",
       "      <td>1301184000</td>\n",
       "    </tr>\n",
       "    <tr>\n",
       "      <th>1089</th>\n",
       "      <td>A1C3BF2HOK1LH2</td>\n",
       "      <td>B004ANMWPY</td>\n",
       "      <td>5.0</td>\n",
       "      <td>1397433600</td>\n",
       "    </tr>\n",
       "    <tr>\n",
       "      <th>1092</th>\n",
       "      <td>A38VB33FNVD07P</td>\n",
       "      <td>B004ANMWPY</td>\n",
       "      <td>4.0</td>\n",
       "      <td>1358640000</td>\n",
       "    </tr>\n",
       "  </tbody>\n",
       "</table>\n",
       "</div>"
      ],
      "text/plain": [
       "              UserID      ItemId  Rating   Timestamp\n",
       "1076   A6N0BM3TTTN1W  B004ANMWPY     5.0  1405382400\n",
       "1081  A315MDHWT29JK9  B004ANMWPY     5.0  1360540800\n",
       "1083  A3V4Q4UA42QJXB  B004ANMWPY     5.0  1301184000\n",
       "1089  A1C3BF2HOK1LH2  B004ANMWPY     5.0  1397433600\n",
       "1092  A38VB33FNVD07P  B004ANMWPY     4.0  1358640000"
      ]
     },
     "execution_count": 12,
     "metadata": {},
     "output_type": "execute_result"
    }
   ],
   "source": [
    "df.head()"
   ]
  },
  {
   "cell_type": "code",
   "execution_count": 13,
   "metadata": {
    "collapsed": false
   },
   "outputs": [
    {
     "data": {
      "text/plain": [
       "Int64Index([   1076,    1081,    1083,    1089,    1092,    1093,    1099,\n",
       "               1106,    1108,    1115,\n",
       "            ...\n",
       "            2636725, 2636742, 2636750, 2636754, 2636791, 2636807, 2636814,\n",
       "            2636840, 2636844, 2636871],\n",
       "           dtype='int64', length=217843)"
      ]
     },
     "execution_count": 13,
     "metadata": {},
     "output_type": "execute_result"
    }
   ],
   "source": [
    "df.index"
   ]
  },
  {
   "cell_type": "code",
   "execution_count": 14,
   "metadata": {
    "collapsed": false
   },
   "outputs": [
    {
     "data": {
      "text/plain": [
       "25233L"
      ]
     },
     "execution_count": 14,
     "metadata": {},
     "output_type": "execute_result"
    }
   ],
   "source": [
    "# Count of unique users\n",
    "n_users = df.UserID.unique().shape[0] \n",
    "n_users"
   ]
  },
  {
   "cell_type": "code",
   "execution_count": 15,
   "metadata": {
    "collapsed": false
   },
   "outputs": [
    {
     "data": {
      "text/plain": [
       "905L"
      ]
     },
     "execution_count": 15,
     "metadata": {},
     "output_type": "execute_result"
    }
   ],
   "source": [
    "# Count of unique items\n",
    "n_items = df['ItemId'].unique().shape[0] \n",
    "n_items"
   ]
  },
  {
   "cell_type": "code",
   "execution_count": 16,
   "metadata": {
    "collapsed": false
   },
   "outputs": [
    {
     "data": {
      "text/plain": [
       "1076    5.0\n",
       "1081    5.0\n",
       "1083    5.0\n",
       "1089    5.0\n",
       "1092    4.0\n",
       "Name: Rating, dtype: float64"
      ]
     },
     "execution_count": 16,
     "metadata": {},
     "output_type": "execute_result"
    }
   ],
   "source": [
    "df['Rating'].head()"
   ]
  },
  {
   "cell_type": "code",
   "execution_count": 17,
   "metadata": {
    "collapsed": false
   },
   "outputs": [
    {
     "data": {
      "image/png": "[encoded data removed]",
      "text/plain": [
       "<matplotlib.figure.Figure at 0xb29e668>"
      ]
     },
     "metadata": {},
     "output_type": "display_data"
    }
   ],
   "source": [
    "plt.hist(df['Rating'])\n",
    "plt.show()"
   ]
  },
  {
   "cell_type": "code",
   "execution_count": 18,
   "metadata": {
    "collapsed": false
   },
   "outputs": [
    {
     "data": {
      "text/plain": [
       "5.0    123248\n",
       "4.0     47282\n",
       "3.0     22157\n",
       "1.0     15270\n",
       "2.0      9886\n",
       "Name: Rating, dtype: int64"
      ]
     },
     "execution_count": 18,
     "metadata": {},
     "output_type": "execute_result"
    }
   ],
   "source": [
    "df['Rating'].value_counts()"
   ]
  },
  {
   "cell_type": "code",
   "execution_count": 19,
   "metadata": {
    "collapsed": false
   },
   "outputs": [
    {
     "data": {
      "image/png": "[encoded data removed]",
      "text/plain": [
       "<matplotlib.figure.Figure at 0xb6897b8>"
      ]
     },
     "metadata": {},
     "output_type": "display_data"
    }
   ],
   "source": [
    "# Probability distribution of ratings\n",
    "plt.hist(df['Rating'], normed= True)\n",
    "plt.show()"
   ]
  },
  {
   "cell_type": "code",
   "execution_count": 20,
   "metadata": {
    "collapsed": true
   },
   "outputs": [],
   "source": [
    "df.to_csv('./Dataset/ratings_Apps_for_Android_cleaned.csv', index=False)"
   ]
  }
 ],
 "metadata": {
  "anaconda-cloud": {},
  "kernelspec": {
   "display_name": "Python [conda root]",
   "language": "python",
   "name": "conda-root-py"
  },
  "language_info": {
   "codemirror_mode": {
    "name": "ipython",
    "version": 2
   },
   "file_extension": ".py",
   "mimetype": "text/x-python",
   "name": "python",
   "nbconvert_exporter": "python",
   "pygments_lexer": "ipython2",
   "version": "2.7.12"
  }
 },
 "nbformat": 4,
 "nbformat_minor": 1
}
